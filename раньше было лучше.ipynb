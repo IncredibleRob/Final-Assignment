{
 "cells": [
  {
   "cell_type": "markdown",
   "id": "115b3e43",
   "metadata": {},
   "source": [
    "## Итоговое задание"
   ]
  },
  {
   "cell_type": "markdown",
   "id": "f4a54b34-a3af-4d06-80c6-94b7e6f0370e",
   "metadata": {},
   "source": [
    "Есть мнение: раньше снимали настоящее кино, не то что сейчас. Ваша задача — проверить это утверждение, используя файлы с рейтингами фильмов movies_stats.csv. То есть проверить, верно ли, что с ростом года выпуска фильма средний рейтинг становится ниже.\n",
    "\n",
    "При этом мы не будем затрагивать субъективные факторы этих рейтингов, а пройдёмся по следующему алгоритму:"
   ]
  },
  {
   "cell_type": "markdown",
   "id": "f1558566",
   "metadata": {},
   "source": [
    "В переменную years запишите список из всех годов с 1950-го по 2010-й.\n",
    "\n",
    "Напишите функцию production_year, которая каждой строке из названия фильма выставляет год выпуска (год выпуска берём из столбца title). Не все названия фильмов содержат год выпуска в одинаковом формате, поэтому используйте следующий алгоритм:\n",
    "\n",
    "1. для каждой строки пройдите по всем годам списка years;\n",
    "2. если номер года присутствует в названии фильма, то функция возвращает этот год как год выпуска;\n",
    "3. если ни один из номеров года списка years не встретился в названии фильма, то возвращается 1900 год.\n",
    "4. Запишите год выпуска фильма по алгоритму пункта 2 в новый столбец ‘year’.\n",
    "\n",
    "Посчитайте средний рейтинг всех фильмов для каждого значения столбца ‘year’ и отсортируйте результат по убыванию рейтинга."
   ]
  },
  {
   "cell_type": "markdown",
   "id": "0bdd0784",
   "metadata": {},
   "source": [
    "# Мое решение"
   ]
  },
  {
   "cell_type": "markdown",
   "id": "84175454",
   "metadata": {},
   "source": [
    "1. Создать список годов years с 1950 по 2010\n",
    "2. Создать функцию producation_year, которая применится к датафрейму и каждому фильму допишет год выпуска согласно алгоритму в столбец year\n",
    "3. Открыть датафрейм\n",
    "4. Отфильтровать датафрейм по году и посчитать средний рейтинг всех фильмов - сложить все рейтинги и разделить на их количество и записать в какую-то переменную типа средней годовой оценки\n",
    "5. Отсортировать года по убыванию средней годовой оценки"
   ]
  },
  {
   "cell_type": "code",
   "execution_count": 1,
   "id": "40c21035",
   "metadata": {},
   "outputs": [],
   "source": [
    "import pandas as pd"
   ]
  },
  {
   "cell_type": "code",
   "execution_count": null,
   "id": "f681fec3",
   "metadata": {},
   "outputs": [],
   "source": [
    "years = []\n",
    "y = 1950\n",
    "while y != 2011:\n",
    "    years.append(y)\n",
    "    y += 1\n",
    "#type(years)\n",
    "#print(years)"
   ]
  },
  {
   "cell_type": "code",
   "execution_count": 3,
   "id": "5c88eb81",
   "metadata": {},
   "outputs": [],
   "source": [
    "def production_year(df, title):\n",
    "    df['year'] = df['title'].str.extract(r'\\((\\d{4})\\)$').fillna(1900) # почему этот код  не работал без знака доллара?(((\n",
    "    return df"
   ]
  },
  {
   "cell_type": "code",
   "execution_count": 4,
   "id": "b0fe2ad0",
   "metadata": {},
   "outputs": [],
   "source": [
    "df = pd.read_csv('movies_stats.csv') # ╤читаем данные\n",
    "#df.head()"
   ]
  },
  {
   "cell_type": "code",
   "execution_count": 5,
   "id": "427ca907",
   "metadata": {},
   "outputs": [],
   "source": [
    "df = production_year(df,'title') # применяем фунцию к датафрейму\n",
    "#df.head()\n",
    "df['year'] = df['year'].astype(int) # не мог применить следующее условие фильтра и поэтому столбец переводим в число"
   ]
  },
  {
   "cell_type": "code",
   "execution_count": null,
   "id": "5b251ec1",
   "metadata": {},
   "outputs": [],
   "source": [
    "df1950_2010 = df[['rating', 'year']] # копируем из датафрейма две колонки\n",
    "df1950_2010 = df1950_2010[(df1950_2010['year'] >= 1950) & (df['year'] <= 2010)] # фильтруем искомые года выпуска фильмов\n",
    "df_copy = df1950_2010.copy() # я так понимаю, копии делать не обязательно, но так спокойнее\n",
    "#df_copy.head()\n",
    "#df_copy.groupby(['year']).agg(['mean']).sort_values(by='year', ascending=False).head() #может пригодиться, если не сработает свобдная таблица, но при этом последний столбец называется в три строки и не работает как надо\n",
    "#df1950_2010.head()"
   ]
  },
  {
   "cell_type": "code",
   "execution_count": null,
   "id": "7ca73beb",
   "metadata": {},
   "outputs": [],
   "source": [
    "# группируем по годам, заодно вычисляя среднюю оценку по году и сортируя по максимальной оценке\n",
    "df_copy = df_copy.groupby(['year']).agg(['mean']).sort_values(by=('rating', 'mean'), ascending=False).reset_index()\n",
    "df_copy"
   ]
  },
  {
   "cell_type": "code",
   "execution_count": null,
   "id": "06cb8556",
   "metadata": {},
   "outputs": [],
   "source": [
    "#df_copy.info()\n",
    "#df_copy = df_copy.sort_values(by=('rating', 'mean'), ascending=False) # тренируемся в сортировке результата с вложенностью названия в шапке\n",
    "#df_copy"
   ]
  },
  {
   "cell_type": "markdown",
   "id": "3839200f",
   "metadata": {},
   "source": [
    "Если коротко, то готовый код выглядит так:"
   ]
  },
  {
   "cell_type": "code",
   "execution_count": 83,
   "id": "018f1a16",
   "metadata": {},
   "outputs": [
    {
     "data": {
      "text/html": [
       "<div>\n",
       "<style scoped>\n",
       "    .dataframe tbody tr th:only-of-type {\n",
       "        vertical-align: middle;\n",
       "    }\n",
       "\n",
       "    .dataframe tbody tr th {\n",
       "        vertical-align: top;\n",
       "    }\n",
       "\n",
       "    .dataframe thead tr th {\n",
       "        text-align: left;\n",
       "    }\n",
       "</style>\n",
       "<table border=\"1\" class=\"dataframe\">\n",
       "  <thead>\n",
       "    <tr>\n",
       "      <th></th>\n",
       "      <th>year</th>\n",
       "      <th>rating</th>\n",
       "    </tr>\n",
       "    <tr>\n",
       "      <th></th>\n",
       "      <th></th>\n",
       "      <th>mean</th>\n",
       "    </tr>\n",
       "  </thead>\n",
       "  <tbody>\n",
       "    <tr>\n",
       "      <th>0</th>\n",
       "      <td>1957</td>\n",
       "      <td>4.014241</td>\n",
       "    </tr>\n",
       "    <tr>\n",
       "      <th>1</th>\n",
       "      <td>1972</td>\n",
       "      <td>4.011136</td>\n",
       "    </tr>\n",
       "    <tr>\n",
       "      <th>2</th>\n",
       "      <td>1952</td>\n",
       "      <td>4.000000</td>\n",
       "    </tr>\n",
       "    <tr>\n",
       "      <th>3</th>\n",
       "      <td>1954</td>\n",
       "      <td>3.994220</td>\n",
       "    </tr>\n",
       "    <tr>\n",
       "      <th>4</th>\n",
       "      <td>1951</td>\n",
       "      <td>3.983539</td>\n",
       "    </tr>\n",
       "    <tr>\n",
       "      <th>...</th>\n",
       "      <td>...</td>\n",
       "      <td>...</td>\n",
       "    </tr>\n",
       "    <tr>\n",
       "      <th>56</th>\n",
       "      <td>2005</td>\n",
       "      <td>3.448434</td>\n",
       "    </tr>\n",
       "    <tr>\n",
       "      <th>57</th>\n",
       "      <td>2003</td>\n",
       "      <td>3.444777</td>\n",
       "    </tr>\n",
       "    <tr>\n",
       "      <th>58</th>\n",
       "      <td>1996</td>\n",
       "      <td>3.426600</td>\n",
       "    </tr>\n",
       "    <tr>\n",
       "      <th>59</th>\n",
       "      <td>1997</td>\n",
       "      <td>3.415764</td>\n",
       "    </tr>\n",
       "    <tr>\n",
       "      <th>60</th>\n",
       "      <td>2000</td>\n",
       "      <td>3.355945</td>\n",
       "    </tr>\n",
       "  </tbody>\n",
       "</table>\n",
       "<p>61 rows × 2 columns</p>\n",
       "</div>"
      ],
      "text/plain": [
       "    year    rating\n",
       "              mean\n",
       "0   1957  4.014241\n",
       "1   1972  4.011136\n",
       "2   1952  4.000000\n",
       "3   1954  3.994220\n",
       "4   1951  3.983539\n",
       "..   ...       ...\n",
       "56  2005  3.448434\n",
       "57  2003  3.444777\n",
       "58  1996  3.426600\n",
       "59  1997  3.415764\n",
       "60  2000  3.355945\n",
       "\n",
       "[61 rows x 2 columns]"
      ]
     },
     "execution_count": 83,
     "metadata": {},
     "output_type": "execute_result"
    }
   ],
   "source": [
    "import pandas as pd\n",
    "\n",
    "years = []\n",
    "y = 1950\n",
    "while y != 2011:\n",
    "    years.append(y)\n",
    "    y += 1\n",
    "\n",
    "def production_year(df, title):\n",
    "    df['year'] = df['title'].str.extract(r'\\((\\d{4})\\)$').fillna(1900) # почему этот код  не работал без знака доллара?(((\n",
    "    return df\n",
    "\n",
    "df = pd.read_csv('movies_stats.csv') # читаем данные\n",
    "df = production_year(df,'title') # применяем фунцию к датафрейму\n",
    "df['year'] = df['year'].astype(int) #не мог применить следующее условие фильтра и поэтому столбец переводим в число\n",
    "df1950_2010 = df[['rating', 'year']]\n",
    "df1950_2010 = df1950_2010[(df1950_2010['year'] >= 1950) & (df['year'] <= 2010)]\n",
    "df_copy = df1950_2010.copy()\n",
    "df_copy = df_copy.groupby(['year']).agg(['mean']).sort_values(by=('rating', 'mean'), ascending=False).reset_index()\n",
    "df_copy"
   ]
  }
 ],
 "metadata": {
  "kernelspec": {
   "display_name": "Python 3",
   "language": "python",
   "name": "python3"
  },
  "language_info": {
   "codemirror_mode": {
    "name": "ipython",
    "version": 3
   },
   "file_extension": ".py",
   "mimetype": "text/x-python",
   "name": "python",
   "nbconvert_exporter": "python",
   "pygments_lexer": "ipython3",
   "version": "3.11.9"
  }
 },
 "nbformat": 4,
 "nbformat_minor": 5
}
